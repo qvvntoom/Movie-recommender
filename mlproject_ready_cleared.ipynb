{
 "cells": [
  {
   "cell_type": "markdown",
   "metadata": {},
   "source": [
    "## Rekomendacja filmów\n",
    "W projekcie przedstawimy zbudowany model rekomendacji filmów, który bazuje na różnych miarach podobieństwa. Wykorzystujemy metody takie jak odległość euklidesowa, odległość cosinusowa oraz odległość chi-kwadrat, aby zaproponować filmy podobne do tego, który użytkownik wprowadził. \n",
    "\n",
    "Zanim przejdziemy do zbudowania modelu, zapoznajmy się z miarami, na których bazujemy.\n",
    "\n",
    "\n",
    "### Miara euklidesowa\n",
    "\n",
    "Odległość euklidesowa jest jedną z najczęściej używanych miar odległości w przestrzeni wielowymiarowej. Jest to miara prostej linii między dwoma punktami w przestrzeni.\n",
    "\n",
    "W dwuwymiarowej przestrzeni euklidesowej (np. na płaszczyźnie), odległość $d$ między dwoma punktami $(x_1, y_1)$ i $(x_2, y_2)$ obliczamy za pomocą wzoru:\n",
    "\n",
    "$$ d_E = \\sqrt{(x_2 - x_1)^2 + (y_2 - y_1)^2} $$\n",
    "\n",
    "Ogólnie, w przestrzeni $n$-wymiarowej, dla punktów o współrzędnych $P = (p_1, p_2, ..., p_n)$ i $Q = (q_1, q_2, ..., q_n)$, odległość Euklidesowa wyraża się wzorem:\n",
    "\n",
    "$$ d_E(\\mathbf{P}, \\mathbf{Q}) = \\sqrt{\\sum_{i=1}^{n} (p_i - q_i)^2} $$\n",
    "\n",
    "### Miara cosinusowa\n",
    "\n",
    "Miara cosinusowa mierzy podobieństwo między dwoma wektorami na podstawie kąta między nimi. Jest to miara, która nie uwzględnia kierunek wektorów. Jest szczególnie użyteczna w analizie tekstów i danych wysokowymiarowych, gdzie wektory reprezentują często występowanie różnych cech.\n",
    "\n",
    "Dla dwóch wektorów $\\mathbf{A} $ i $\\mathbf{B} $ w przestrzeni n-wymiarowej, podobieństwo cosinusowe jest zdefiniowane jako:\n",
    "\n",
    "$$S_C(\\mathbf{A}, \\mathbf{B}) = \\frac{\\mathbf{A} \\cdot \\mathbf{B}}{\\|\\mathbf{A}\\| \\|\\mathbf{B}\\|} $$\n",
    "\n",
    "Gdzie:\n",
    "- $\\mathbf{A} \\cdot \\mathbf{B}$ oznacza iloczyn skalarny dwóch wektorów,\n",
    "- $\\|\\mathbf{A}\\| $ i $\\|\\mathbf{B}\\| $ oznaczają normę (długość) tych wektorów.\n",
    "\n",
    "Odległość cosinusowa, dla tak zdefiniowanego podobieństwa cosinusowego jest zdefiniowana jako:\n",
    "\n",
    "$$d_C(\\mathbf{A}, \\mathbf{B}) = 1 - S_C(\\mathbf{A}, \\mathbf{B})$$\n",
    "\n",
    "\n",
    "### Miara chi-kwadrat (chi-square)\n",
    "Miara chi-kwadrat jest stosowana do porównywania rozkładów danych. Jest szczególnie użyteczna w przypadku danych kategorycznych i histogramów. Porównuje ona różnice między obserwowanymi a oczekiwanymi wartościami cech, normalizując je przez ich sumę.\n",
    "\n",
    "\n",
    "Ogólnie, w przestrzeni $n$-wymiarowej, dla punktów o współrzędnych $P = (p_1, p_2, ..., p_n)$ i $Q = (q_1, q_2, ..., q_n)$, odległość chi-kwadrat wyraża się wzorem:\n",
    "\n",
    "$$d_{\\chi^2}(\\mathbf{P}, \\mathbf{Q}) = \\sum_{i=1}^n \\frac{(p_i - q_i)^2}{p_i+q_i} $$"
   ]
  },
  {
   "cell_type": "markdown",
   "metadata": {},
   "source": [
    "W celu stworzenia modelu korzystamy z następujących bibliotek:\n",
    "- `pandas` - służy do analizy, czyszczenia, manipulowania danymi.\n",
    "- `seaborn` i `matplotlib` - służą do wizualizowania danych.\n",
    "- `numpy` - służy do przetwarzania danych numerycznych i wykonywania obliczeń potrzebnych do analizy filmów.\n",
    "- `ipywidgets` i `display` - służą do utworzenia interfejsu przyjaznego dla użytkownika"
   ]
  },
  {
   "cell_type": "code",
   "execution_count": null,
   "metadata": {},
   "outputs": [],
   "source": [
    "import pandas as pd\n",
    "import seaborn as sns\n",
    "import matplotlib.pyplot as plt\n",
    "import numpy as np\n",
    "import ipywidgets as widgets\n",
    "from IPython.display import display, HTML"
   ]
  },
  {
   "cell_type": "markdown",
   "metadata": {},
   "source": [
    "### Zbiór danych\n",
    "Zbiór danych zawiera informacje na temat filmów z różnych lat, gatunków i krajów. Składa się z 19 kolumn, z których każda opisuje różne aspekty każdego filmu.\n",
    "\n",
    "\n",
    "- filmtv_id - unikalny identyfikator\n",
    "- title - tytuł \n",
    "- year - rok wydania \n",
    "- genre - gatunek \n",
    "- duration - czas trwania \n",
    "- country - kraj produkcji \n",
    "- directors - reżyserzy \n",
    "- actress - aktorzy \n",
    "- avg_vote -średnia ocena filmu.\n",
    "- critics_vote - ocena  przez krytyków.\n",
    "- public_vote - ocena  przez publiczność\n",
    "- total_votes - liczba głosów oddanych na film\n",
    "- description - opis \n",
    "- notes - dodatkowe notatki \n",
    "- humor - ocena humoru \n",
    "- rhythm - ocena tempa \n",
    "- effort - ocena wysiłku włożonego w produkcję \n",
    "- tension - ocena napięcia \n",
    "- erotism - ocena elementów erotycznych  "
   ]
  },
  {
   "cell_type": "code",
   "execution_count": null,
   "metadata": {},
   "outputs": [],
   "source": [
    "Data_frame_base = pd.read_csv(r'filmtv_movies.csv')\n",
    "Data_frame_base.head()"
   ]
  },
  {
   "cell_type": "markdown",
   "metadata": {},
   "source": [
    "### Wstępna analiza danych \n",
    "\n",
    "####  Histogram roczników filmów"
   ]
  },
  {
   "cell_type": "code",
   "execution_count": null,
   "metadata": {},
   "outputs": [],
   "source": [
    "plt.figure(figsize=(10, 6))\n",
    "sns.histplot(Data_frame_base['year'], bins=30, kde=True)\n",
    "plt.title('Histogram roczników filmów')\n",
    "plt.xlabel('Rok')\n",
    "plt.ylabel('Liczba filmów')\n",
    "plt.show()"
   ]
  },
  {
   "cell_type": "markdown",
   "metadata": {},
   "source": [
    "Znacząca część filmów w zbiorze danych to filmy z 2000 roku i wyżej."
   ]
  },
  {
   "cell_type": "markdown",
   "metadata": {},
   "source": [
    "#### Rozkład ocen filmów"
   ]
  },
  {
   "cell_type": "code",
   "execution_count": null,
   "metadata": {},
   "outputs": [],
   "source": [
    "\n",
    "plt.figure(figsize=(10, 6))\n",
    "sns.histplot(Data_frame_base['avg_vote'], bins=30, kde=True)\n",
    "plt.title('Rozkład średnich ocen filmów')\n",
    "plt.xlabel('Średnia ocena')\n",
    "plt.ylabel('Liczba filmów')\n",
    "plt.show()"
   ]
  },
  {
   "cell_type": "markdown",
   "metadata": {},
   "source": [
    "Większość filmów otrzymuje oceny w zakresie od 5 do 7, co sugeruje, że średnia ocena filmów w tym zbiorze wynosi około 6. Bardzo mało filmów jest ocenianych 10/10."
   ]
  },
  {
   "cell_type": "markdown",
   "metadata": {},
   "source": [
    "#### Rozkład gatunków filmowych"
   ]
  },
  {
   "cell_type": "code",
   "execution_count": null,
   "metadata": {},
   "outputs": [],
   "source": [
    "plt.figure(figsize=(14, 8))\n",
    "sns.countplot(y='genre', data=Data_frame_base, order=Data_frame_base['genre'].value_counts().index, palette='coolwarm')\n",
    "plt.title('Rozkład gatunków filmowych')\n",
    "plt.xlabel('Liczba filmów')\n",
    "plt.ylabel('Gatunek')\n",
    "plt.show()"
   ]
  },
  {
   "cell_type": "markdown",
   "metadata": {},
   "source": [
    "W zbiorze danych przewagę mają filmy o gatunku drama oraz komedie, daleko za nimi mamy thrilley, horrory czy filmy akcji."
   ]
  },
  {
   "cell_type": "markdown",
   "metadata": {},
   "source": [
    "#### Średnia ocena dla każdego gatunku"
   ]
  },
  {
   "cell_type": "code",
   "execution_count": null,
   "metadata": {},
   "outputs": [],
   "source": [
    "avg_vote_by_genre = Data_frame_base.groupby('genre')['avg_vote'].mean().reset_index()\n",
    "\n",
    "plt.figure(figsize=(12, 8))\n",
    "sns.barplot(x='avg_vote', y='genre', data=avg_vote_by_genre, palette='coolwarm')\n",
    "plt.xlabel('Średnia ocena')\n",
    "plt.ylabel('Gatunek')\n",
    "plt.title('Średnia ocena filmów według gatunku')\n",
    "plt.show()"
   ]
  },
  {
   "cell_type": "markdown",
   "metadata": {},
   "source": [
    "Widzimy, że najwyżej ocenianym gatunkiem są komedie stand-up, a najniżej filmy erotyczne."
   ]
  },
  {
   "cell_type": "markdown",
   "metadata": {},
   "source": [
    "#### Średnia długość filmów według gatunku"
   ]
  },
  {
   "cell_type": "code",
   "execution_count": null,
   "metadata": {},
   "outputs": [],
   "source": [
    "avg_duration_by_genre = Data_frame_base.groupby('genre')['duration'].mean().reset_index()\n",
    "\n",
    "plt.figure(figsize=(12, 8))\n",
    "sns.barplot(x='duration', y='genre', data=avg_duration_by_genre, palette='coolwarm')\n",
    "plt.xlabel('Średnia długość filmu (minuty)')\n",
    "plt.ylabel('Gatunek')\n",
    "plt.title('Średnia długość filmów według gatunku')\n",
    "plt.show()"
   ]
  },
  {
   "cell_type": "markdown",
   "metadata": {},
   "source": [
    "Z wykresu wynika, że długość filmów różni się znacznie w zależności od gatunku. Najdłuższe filmy to \"Short Movie\" z średnią długością przekraczającą 200 minut, podczas gdy najkrótsze to \"Stand-up Comedy\", które mają średnią długość poniżej 50 minut. Większość gatunków filmowych mieści się w przedziale od 75 do 125 minut."
   ]
  },
  {
   "cell_type": "markdown",
   "metadata": {},
   "source": [
    "#### Wykres mapy pustych kolumn"
   ]
  },
  {
   "cell_type": "code",
   "execution_count": null,
   "metadata": {},
   "outputs": [],
   "source": [
    "plt.figure(figsize=(30, 12))\n",
    "sns.heatmap(Data_frame_base.isnull(),yticklabels=False, cbar=False, cmap='coolwarm')\n",
    "plt.title('Puste rekordy w kolumnach (heatmap)')\n",
    "plt.xlabel('Kolumny')\n",
    "plt.ylabel('Puste rekordy')\n",
    "plt.show()"
   ]
  },
  {
   "cell_type": "markdown",
   "metadata": {},
   "source": [
    "Kolumny `directors`, `actors`, `critics_vote` i `notes` mają znaczną liczbę brakujących wartości. W szczególności kolumna `notes` ma wiele brakujących danych, co sugeruje, że dodatkowe notatki na temat filmów nie są dostępne dla wielu rekordów. Pozostałe kolumny  mają niewiele lub brak brakujących wartości."
   ]
  },
  {
   "cell_type": "markdown",
   "metadata": {},
   "source": [
    "### Przekształcanie danych\n",
    "\n",
    "Przerobimy teraz nasz zbiór danych w taki sposób, że kolumna \"directors\" zawierająca informacje o reżyserach będzie są przekształcana z pojedynczych ciągów znaków zawierających listę elementów oddzielonych przecinkami, na listy Pythona. Jeśli kolumna zawiera wartość NaN, zostaje zastąpiona zerem. Kolumny zawierające wartości logiczne są przekształcane na wartości całkowitoliczbowe."
   ]
  },
  {
   "cell_type": "code",
   "execution_count": null,
   "metadata": {},
   "outputs": [],
   "source": [
    "def directors_and_actors_split(df):\n",
    "\n",
    "    df = df.fillna(0)\n",
    "\n",
    "    for col in df.columns:\n",
    "        if df[col].dtype == 'bool':\n",
    "            df[col] = df[col].astype(int)\n",
    "\n",
    "\n",
    "    for i in range(df.shape[0]):\n",
    "        if df['directors'][i] != 0:\n",
    "           df['directors'][i] = df['directors'][i].split(', ')\n",
    "        if df['actors'][i] != 0:\n",
    "           df['actors'][i] = df['actors'][i].split(', ')\n",
    "    return(df)\n",
    "\n",
    "Data_frame = directors_and_actors_split(Data_frame_base)\n",
    "\n",
    "Data_frame.head()"
   ]
  },
  {
   "cell_type": "markdown",
   "metadata": {},
   "source": [
    "Zdefiniujmy funkcję `preprocessing`, która przekształca ramkę danych, tworząc zmienne kategoryczne dla wybranych kolumn, usuwa określone kolumny oraz wypełnia brakujące wartości zerami. Dodatkowo, konwertuje wartości logiczne na wartości całkowitoliczbowe dla spójności danych. Ostatecznie zwraca przetworzoną ramkę danych gotową do dalszej analizy lub modelowania"
   ]
  },
  {
   "cell_type": "code",
   "execution_count": null,
   "metadata": {},
   "outputs": [],
   "source": [
    "def preprocessing(df,c_dummy,c_drop):\n",
    "\n",
    "    df_dummy = pd.get_dummies(Data_frame, columns=c_dummy)\n",
    "\n",
    "    df_base = df_dummy.drop(c_drop, axis = 1)\n",
    "\n",
    "    df_nulls = df_base.fillna(0)\n",
    "\n",
    "    for col in df_nulls.columns:\n",
    "        if df_nulls[col].dtype == 'bool':\n",
    "            df_nulls[col] = df_nulls[col].astype(int)\n",
    "\n",
    "    df_preprocessed = df_nulls\n",
    "\n",
    "    return df_preprocessed\n",
    "\n",
    "columns_dummy=['genre','country']\n",
    "columns_drop = ['notes','description','filmtv_id']\n",
    "\n",
    "Data_frame_prep = preprocessing(Data_frame, columns_dummy, columns_drop)\n",
    "\n",
    "Data_frame_prep.head()"
   ]
  },
  {
   "cell_type": "markdown",
   "metadata": {},
   "source": [
    "### Funkcje liczące miary podobieństwa\n",
    "\n",
    "Zdefiniujmy funkcje liczące miary podobieństwa:\n",
    "\n",
    "Przypomnijmy:\n",
    "\n",
    "##### Odległość Euklidesowa:\n",
    "$$ d_E(\\mathbf{P}, \\mathbf{Q}) = \\sqrt{\\sum_{i=1}^{n} (p_i - q_i)^2} $$"
   ]
  },
  {
   "cell_type": "code",
   "execution_count": null,
   "metadata": {},
   "outputs": [],
   "source": [
    "def Euclid_distance(x,y):\n",
    "    if np.all(x == y):\n",
    "        dist = np.linalg.norm(y)\n",
    "    else:\n",
    "        dist = np.sqrt(np.sum((x-y)**2))\n",
    "    return dist"
   ]
  },
  {
   "cell_type": "markdown",
   "metadata": {},
   "source": [
    "##### Odległość Cosinusowa:\n",
    "$$S_C(\\mathbf{A}, \\mathbf{B}) = \\frac{\\mathbf{A} \\cdot \\mathbf{B}}{\\|\\mathbf{A}\\| \\|\\mathbf{B}\\|} $$\n",
    "\n",
    "$$d_C(\\mathbf{A}, \\mathbf{B}) = 1 - S_C(\\mathbf{A}, \\mathbf{B})$$"
   ]
  },
  {
   "cell_type": "code",
   "execution_count": null,
   "metadata": {},
   "outputs": [],
   "source": [
    "def Cosine_distance(x,y):\n",
    "    if np.all(x == y):\n",
    "        similarity = -1\n",
    "    else:\n",
    "        similarity = np.dot(x,y)/(np.linalg.norm(x)*np.linalg.norm(y))\n",
    "    distance = 1 - similarity\n",
    "    return distance"
   ]
  },
  {
   "cell_type": "markdown",
   "metadata": {},
   "source": [
    "##### Odległość Chi-Kwadrat\n",
    "\n",
    "$$d_{\\chi^2}(\\mathbf{P}, \\mathbf{Q}) = \\sum_{i=1}^n \\frac{(p_i - q_i)^2}{p_i+q_i} $$"
   ]
  },
  {
   "cell_type": "code",
   "execution_count": null,
   "metadata": {},
   "outputs": [],
   "source": [
    "def Chi_square_distance(x,y):\n",
    "    epsilon = 1e-10\n",
    "    if np.all(x == y):\n",
    "        distance = np.linalg.norm(y)\n",
    "    else:\n",
    "        distance = np.sum((x-y)**2/(x+y+epsilon))\n",
    "    return distance"
   ]
  },
  {
   "cell_type": "markdown",
   "metadata": {},
   "source": [
    "Za pomocą zdefiniowanej wcześniej funkcji `preprocessing` zamieniamy zmienne z kolumn \"genre\" i \"country\"  na zmienne kategoryczne, natomiast zmienne z kolumn \"directors\", \"actors\", \"notes\", \"description\" i \"filmtv_id\" usuwamy."
   ]
  },
  {
   "cell_type": "code",
   "execution_count": null,
   "metadata": {},
   "outputs": [],
   "source": [
    "columns_dummy=['genre','country']\n",
    "columns_drop = ['directors','actors','notes','description','filmtv_id']\n",
    "\n",
    "Data_frame_input = preprocessing(Data_frame, columns_dummy, columns_drop)"
   ]
  },
  {
   "cell_type": "code",
   "execution_count": null,
   "metadata": {},
   "outputs": [],
   "source": [
    "Data_frame_input"
   ]
  },
  {
   "cell_type": "markdown",
   "metadata": {},
   "source": [
    "### Pierwszy model rekomendacji filmów\n",
    "\n",
    "Zdefiniujmy funkcję `recommend_me_some_films`, która jest narzędziem do rekomendacji filmów na podstawie różnych miar odległości oraz dodatkowych kryteriów takich jak rok produkcji i czas trwania filmu\n",
    "\n",
    "Kroki, które wykonuje funkcja:\n",
    "1. Normalizuje kolumny 'year' i 'duration', jeśli wybrano 'alternative'.\n",
    "2. Prosi użytkownika o podanie tytułu filmu.\n",
    "3. Porównuje wybrany film z innymi, używając wybranej miary odległości.\n",
    "4. Sortuje filmy według odległości i zwraca n najbliższych filmów.\n",
    "5. Tworzy DataFrame z rekomendowanymi tytułami i oryginalnym filmem."
   ]
  },
  {
   "cell_type": "code",
   "execution_count": null,
   "metadata": {},
   "outputs": [],
   "source": [
    "def recommend_me_some_films(df, n = 1, measure = 'Euclid', year_importance = 'classic', duration_importance = 'classic'):\n",
    "\n",
    "    if year_importance == 'alternative':\n",
    "        df['year'] = (df['year'] - df['year'].min())/10\n",
    "\n",
    "    if duration_importance == 'alternative':\n",
    "        df['duration'] = (df['duration']- df['duration'].min())/100\n",
    "\n",
    "    Y = df['title'].to_numpy()\n",
    "    X = df.drop('title', axis=1).to_numpy()\n",
    "\n",
    "    film = input(\"Podaj tytuł filmu :\")\n",
    "\n",
    "    Y_index = np.where(Y == film)[0][0]\n",
    "\n",
    "    film_vector = X[Y_index,:]\n",
    "\n",
    "    l = X.shape[0]\n",
    "\n",
    "    list_distances = []\n",
    "\n",
    "    if measure == 'Mixed':\n",
    "        list_distances_E = []\n",
    "        list_distances_C = []\n",
    "        list_distances_CS = []\n",
    "        for i in range(l):\n",
    "            vector = X[i,:]\n",
    "            distance_E = Euclid_distance(film_vector, vector)\n",
    "            distance_C = Cosine_distance(film_vector, vector)\n",
    "            distance_CS = Chi_square_distance(film_vector, vector)\n",
    "            list_distances_E.append(distance_E)\n",
    "            list_distances_C.append(distance_C)\n",
    "            list_distances_CS.append(distance_CS)\n",
    "\n",
    "        distances_vector_E = np.array(list_distances_E).reshape(-1,1)\n",
    "        distances_vector_C = np.array(list_distances_C).reshape(-1,1)\n",
    "        distances_vector_CS = np.array(list_distances_CS).reshape(-1,1)\n",
    "\n",
    "        Data = np.hstack([X,distances_vector_E, distances_vector_C, distances_vector_CS])\n",
    "\n",
    "        titles = Y.reshape(-1,1)\n",
    "\n",
    "        Data_title = np.hstack([titles,Data])\n",
    "\n",
    "        indeksy_sortujace_E = np.argsort(Data_title[:, -3])\n",
    "        indeksy_sortujace_C = np.argsort(Data_title[:, -2])\n",
    "        indeksy_sortujace_CS = np.argsort(Data_title[:, -1])\n",
    "\n",
    "        macierz_posortowana_E = Data_title[indeksy_sortujace_E]\n",
    "        macierz_posortowana_C = Data_title[indeksy_sortujace_C]\n",
    "        macierz_posortowana_CS = Data_title[indeksy_sortujace_CS]\n",
    "        \n",
    "        \n",
    "        nearest_titles_E = macierz_posortowana_E[:n,0]\n",
    "        nearest_titles_C = macierz_posortowana_C[:n,0]\n",
    "        nearest_titles_CS = macierz_posortowana_CS[:n,0]\n",
    "\n",
    "        titles_list = (nearest_titles_E, nearest_titles_C, nearest_titles_CS)\n",
    "\n",
    "        combined_list = []\n",
    "        for titles in titles_list:\n",
    "            combined_list.extend(titles)\n",
    "\n",
    "        unique_titles = list(set(combined_list))\n",
    "\n",
    "        df_titles_mixed = pd.DataFrame(unique_titles,columns=[\"Titles\"])\n",
    "        df_titles_mixed['Chosen_film'] = ''\n",
    "        df_titles_mixed.loc[0, 'Chosen_film'] = film\n",
    "\n",
    "        return (df_titles_mixed)\n",
    "\n",
    "    else:\n",
    "        for i in range(l):\n",
    "            vector  = X[i,:]\n",
    "\n",
    "            if measure == 'Cosine':\n",
    "                distance = Cosine_distance(film_vector,vector)\n",
    "            elif measure == 'Chi_square':\n",
    "                distance = Chi_square_distance(film_vector,vector)\n",
    "            elif measure == 'Euclid':\n",
    "                distance = Euclid_distance(film_vector,vector)\n",
    "\n",
    "            list_distances.append(distance)\n",
    "\n",
    "        distances_vector = np.array(list_distances).reshape(-1,1)\n",
    "        Data = np.hstack([X,distances_vector])\n",
    "        titles = Y.reshape(-1,1)\n",
    "        Data_title = np.hstack([titles,Data])\n",
    "\n",
    "        indeksy_sortujace = np.argsort(Data_title[:, -1])\n",
    "\n",
    "        macierz_posortowana = Data_title[indeksy_sortujace]\n",
    "        \n",
    "        nearest_titles = macierz_posortowana[:n,0]\n",
    "\n",
    "        df_titles = pd.DataFrame(nearest_titles,columns=[\"Titles\"])\n",
    "        df_titles['Chosen_film'] = ''\n",
    "        df_titles.loc[0, 'Chosen_film'] = film\n",
    "        return (df_titles)"
   ]
  },
  {
   "cell_type": "markdown",
   "metadata": {},
   "source": [
    "Aby przetestować model rekomendacji filmów znajdziemy teraz filmy podobne do Interstellar, oraz Braveheart.\n",
    "W tym celu należy wywołać poniższy kod oraz podać film."
   ]
  },
  {
   "cell_type": "code",
   "execution_count": null,
   "metadata": {},
   "outputs": [],
   "source": [
    "recommend_me_some_films(Data_frame_input, n = 5, measure = 'Mixed', year_importance = 'classic', duration_importance='classic')"
   ]
  },
  {
   "cell_type": "code",
   "execution_count": null,
   "metadata": {},
   "outputs": [],
   "source": [
    "recommend_me_some_films(Data_frame_input, n=5, measure='Mixed', year_importance='alternative', duration_importance='alternative')"
   ]
  },
  {
   "cell_type": "markdown",
   "metadata": {},
   "source": [
    "### Drugi model rekomendacji filmów\n",
    "\n",
    "Zdefiniujmy kolejną funkcję `recommend_me_some_films_d`, która także rekomenduje filmy, uwzględniając dodatkowo reżysera jako kryterium podobieństwa.\n",
    "\n",
    "Kroki, które wykonuje funkcja:\n",
    "1. Normalizuje kolumny 'year' i 'duration', jeśli wybrano 'alternative'.\n",
    "2. Jeśli wybrano 'alternative' dla reżyserów, uwzględnia ich wpływ na podobieństwo filmów.\n",
    "3. Prosi użytkownika o podanie tytułu filmu.\n",
    "4. Porównuje wybrany film z innymi, używając wybranej miary odległości.\n",
    "5. Sortuje filmy według odległości i zwraca n najbliższych filmów.\n",
    "6. Tworzy DataFrame z rekomendowanymi tytułami i oryginalnym filmem.\n"
   ]
  },
  {
   "cell_type": "code",
   "execution_count": null,
   "metadata": {},
   "outputs": [],
   "source": [
    "def recommend_me_some_films_d(df, n = 1, measure = 'Euclid', year_importance = 'classic', duration_importance = 'classic', directors_importance = 'classic'):\n",
    "\n",
    "    if directors_importance == 'classic':\n",
    "        df.drop('directors', axis = 1)\n",
    "\n",
    "    if year_importance == 'alternative':\n",
    "        df['year'] = (df['year'] - df['year'].min())/10\n",
    "\n",
    "    if duration_importance == 'alternative':\n",
    "        df['duration'] = (df['duration']- df['duration'].min())/100\n",
    "\n",
    "    Y = df['title'].to_numpy()\n",
    "    X = df.drop('title', axis=1).to_numpy()\n",
    "\n",
    "    film = input(\"Podaj tytuł filmu :\")\n",
    "\n",
    "    Y_index = np.where(Y == film)[0][0]\n",
    "\n",
    "    film_vector = X[Y_index,:]\n",
    "\n",
    "    l = X.shape[0]\n",
    "\n",
    "    if directors_importance == 'alternative':\n",
    "        film_vector = np.hstack((film_vector, 0))\n",
    "        result = []\n",
    "        for i in range(l):\n",
    "            vector = X[i, :]\n",
    "            if isinstance(film_vector[2], int) or isinstance(vector[2], int):\n",
    "                director_measure = 15\n",
    "\n",
    "            else:\n",
    "                director_measure = 0\n",
    "                for j in range(len(film_vector[2])):\n",
    "                    for k in range(len(vector[2])):\n",
    "                        if film_vector[2][j] != vector[2][k]:\n",
    "                            director_measure += 5\n",
    "            \n",
    "            result.append(np.hstack((X[i], director_measure)))\n",
    "\n",
    "        X = np.array(result, dtype=object)\n",
    "\n",
    "        columns_to_remove = [2]\n",
    "\n",
    "        X = np.delete(X, columns_to_remove, axis=1)\n",
    "        film_vector = np.delete(film_vector, columns_to_remove)\n",
    "\n",
    "    list_distances = []\n",
    "\n",
    "    if measure == 'Mixed':\n",
    "        list_distances_E = []\n",
    "        list_distances_C = []\n",
    "        list_distances_CS = []\n",
    "        for i in range(l):\n",
    "            vector = X[i,:]\n",
    "            distance_E = Euclid_distance(film_vector, vector)\n",
    "            distance_C = Cosine_distance(film_vector, vector)\n",
    "            distance_CS = Chi_square_distance(film_vector, vector)\n",
    "            list_distances_E.append(distance_E)\n",
    "            list_distances_C.append(distance_C)\n",
    "            list_distances_CS.append(distance_CS)\n",
    "\n",
    "        distances_vector_E = np.array(list_distances_E).reshape(-1,1)\n",
    "        distances_vector_C = np.array(list_distances_C).reshape(-1,1)\n",
    "        distances_vector_CS = np.array(list_distances_CS).reshape(-1,1)\n",
    "\n",
    "        Data = np.hstack([X,distances_vector_E, distances_vector_C, distances_vector_CS])\n",
    "\n",
    "        titles = Y.reshape(-1,1)\n",
    "\n",
    "        Data_title = np.hstack([titles,Data])\n",
    "\n",
    "        indeksy_sortujace_E = np.argsort(Data_title[:, -3])\n",
    "        indeksy_sortujace_C = np.argsort(Data_title[:, -2])\n",
    "        indeksy_sortujace_CS = np.argsort(Data_title[:, -1])\n",
    "\n",
    "        macierz_posortowana_E = Data_title[indeksy_sortujace_E]\n",
    "        macierz_posortowana_C = Data_title[indeksy_sortujace_C]\n",
    "        macierz_posortowana_CS = Data_title[indeksy_sortujace_CS]\n",
    "        \n",
    "        \n",
    "        nearest_titles_E = macierz_posortowana_E[:n,0]\n",
    "        nearest_titles_C = macierz_posortowana_C[:n,0]\n",
    "        nearest_titles_CS = macierz_posortowana_CS[:n,0]\n",
    "\n",
    "        titles_list = (nearest_titles_E, nearest_titles_C, nearest_titles_CS)\n",
    "\n",
    "        combined_list = []\n",
    "        for titles in titles_list:\n",
    "            combined_list.extend(titles)\n",
    "\n",
    "        unique_titles = list(set(combined_list))\n",
    "\n",
    "        df_titles_mixed = pd.DataFrame(unique_titles,columns=[\"Titles\"])\n",
    "        df_titles_mixed['Chosen_film'] = ''\n",
    "        df_titles_mixed.loc[0, 'Chosen_film'] = film\n",
    "\n",
    "        return (df_titles_mixed)\n",
    "\n",
    "    else:\n",
    "        for i in range(l):\n",
    "            vector  = X[i,:]\n",
    "\n",
    "            if measure == 'Cosine':\n",
    "                distance = Cosine_distance(film_vector,vector)\n",
    "            elif measure == 'Chi_square':\n",
    "                distance = Chi_square_distance(film_vector,vector)\n",
    "            elif measure == 'Euclid':\n",
    "                distance = Euclid_distance(film_vector,vector)\n",
    "\n",
    "            list_distances.append(distance)\n",
    "\n",
    "        distances_vector = np.array(list_distances).reshape(-1,1)\n",
    "        Data = np.hstack([X,distances_vector])\n",
    "        titles = Y.reshape(-1,1)\n",
    "        Data_title = np.hstack([titles,Data])\n",
    "\n",
    "        indeksy_sortujace = np.argsort(Data_title[:, -1])\n",
    "\n",
    "        macierz_posortowana = Data_title[indeksy_sortujace]\n",
    "        \n",
    "        nearest_titles = macierz_posortowana[:n,0]\n",
    "\n",
    "        df_titles = pd.DataFrame(nearest_titles,columns=[\"Titles\"])\n",
    "        df_titles['Chosen_film'] = '' \n",
    "        df_titles.loc[0, 'Chosen_film'] = film\n",
    "        \n",
    "        return (df_titles)"
   ]
  },
  {
   "cell_type": "markdown",
   "metadata": {},
   "source": [
    "W poprzednim modelu usuwaliśmy kolumnę z reżyserami, tym razem zostawimy ją i na takich danych przetestujemy nasz rekomendator."
   ]
  },
  {
   "cell_type": "code",
   "execution_count": null,
   "metadata": {},
   "outputs": [],
   "source": [
    "columns_dummy=['genre','country']\n",
    "columns_drop = ['actors','notes','description','filmtv_id']\n",
    "\n",
    "Data_frame_d = preprocessing(Data_frame,columns_dummy,columns_drop)\n",
    "\n",
    "Data_frame_d.head()"
   ]
  },
  {
   "cell_type": "code",
   "execution_count": null,
   "metadata": {},
   "outputs": [],
   "source": [
    "recommend_me_some_films_d(Data_frame_d, n=5, measure='Mixed', directors_importance='alternative')"
   ]
  },
  {
   "cell_type": "code",
   "execution_count": null,
   "metadata": {},
   "outputs": [],
   "source": [
    "recommend_me_some_films_d(Data_frame_d, n=5, measure='Mixed', year_importance='alternative', duration_importance = 'alternative' ,directors_importance='alternative')"
   ]
  },
  {
   "cell_type": "markdown",
   "metadata": {},
   "source": [
    "### Model z przyjaznym dla użytkownika interfejsem\n",
    "\n",
    "Musimy zmodyfikować naszą poprzednią funkcję, aby inaczej przekazywać do niej wybrany przez nas tytuł filmu."
   ]
  },
  {
   "cell_type": "code",
   "execution_count": null,
   "metadata": {},
   "outputs": [],
   "source": [
    "def recommend_me_some_films_d_m(df, film, n=1, measure='Euclid', year_importance='classic', duration_importance='classic', directors_importance='classic'):\n",
    "    if directors_importance == 'classic':\n",
    "        df = df.drop('directors', axis=1)\n",
    "\n",
    "    if year_importance == 'alternative':\n",
    "        df['year'] = (df['year'] - df['year'].min()) / 10\n",
    "\n",
    "    if duration_importance == 'alternative':\n",
    "        df['duration'] = (df['duration'] - df['duration'].min()) / 100\n",
    "\n",
    "    Y = df['title'].to_numpy()\n",
    "    X = df.drop('title', axis=1).to_numpy()\n",
    "\n",
    "    Y_index = np.where(Y == film)[0][0]\n",
    "    film_vector = X[Y_index, :]\n",
    "\n",
    "    l = X.shape[0]\n",
    "\n",
    "    if directors_importance == 'alternative':\n",
    "        film_vector = np.hstack((film_vector, 0))\n",
    "        result = []\n",
    "        for i in range(l):\n",
    "            vector = X[i, :]\n",
    "            if isinstance(film_vector[2], int) or isinstance(vector[2], int):\n",
    "                director_measure = 15\n",
    "            else:\n",
    "                director_measure = 0\n",
    "                for j in range(len(film_vector[2])):\n",
    "                    for k in range(len(vector[2])):\n",
    "                        if film_vector[2][j] != vector[2][k]:\n",
    "                            director_measure += 5\n",
    "\n",
    "            result.append(np.hstack((X[i], director_measure)))\n",
    "\n",
    "        X = np.array(result, dtype=object)\n",
    "        columns_to_remove = [2]\n",
    "        X = np.delete(X, columns_to_remove, axis=1)\n",
    "        film_vector = np.delete(film_vector, columns_to_remove)\n",
    "\n",
    "    list_distances = []\n",
    "\n",
    "    if measure == 'Mixed':\n",
    "        list_distances_E = []\n",
    "        list_distances_C = []\n",
    "        list_distances_CS = []\n",
    "        for i in range(l):\n",
    "            vector = X[i, :]\n",
    "            distance_E = Euclid_distance(film_vector, vector)\n",
    "            distance_C = Cosine_distance(film_vector, vector)\n",
    "            distance_CS = Chi_square_distance(film_vector, vector)\n",
    "            list_distances_E.append(distance_E)\n",
    "            list_distances_C.append(distance_C)\n",
    "            list_distances_CS.append(distance_CS)\n",
    "\n",
    "        distances_vector_E = np.array(list_distances_E).reshape(-1, 1)\n",
    "        distances_vector_C = np.array(list_distances_C).reshape(-1, 1)\n",
    "        distances_vector_CS = np.array(list_distances_CS).reshape(-1, 1)\n",
    "\n",
    "        Data = np.hstack([X, distances_vector_E, distances_vector_C, distances_vector_CS])\n",
    "\n",
    "        titles = Y.reshape(-1, 1)\n",
    "        Data_title = np.hstack([titles, Data])\n",
    "\n",
    "        indeksy_sortujace_E = np.argsort(Data_title[:, -3])\n",
    "        indeksy_sortujace_C = np.argsort(Data_title[:, -2])\n",
    "        indeksy_sortujace_CS = np.argsort(Data_title[:, -1])\n",
    "\n",
    "        macierz_posortowana_E = Data_title[indeksy_sortujace_E]\n",
    "        macierz_posortowana_C = Data_title[indeksy_sortujace_C]\n",
    "        macierz_posortowana_CS = Data_title[indeksy_sortujace_CS]\n",
    "\n",
    "        nearest_titles_E = macierz_posortowana_E[:n, 0]\n",
    "        nearest_titles_C = macierz_posortowana_C[:n, 0]\n",
    "        nearest_titles_CS = macierz_posortowana_CS[:n, 0]\n",
    "\n",
    "        titles_list = (nearest_titles_E, nearest_titles_C, nearest_titles_CS)\n",
    "\n",
    "        combined_list = []\n",
    "        for titles in titles_list:\n",
    "            combined_list.extend(titles)\n",
    "\n",
    "        unique_titles = list(set(combined_list))\n",
    "\n",
    "        df_titles_mixed = pd.DataFrame(unique_titles, columns=[\"Titles\"])\n",
    "        df_titles_mixed['Chosen_film'] = ''\n",
    "        df_titles_mixed.loc[0, 'Chosen_film'] = film\n",
    "\n",
    "        return df_titles_mixed\n",
    "\n",
    "    else:\n",
    "        for i in range(l):\n",
    "            vector = X[i, :]\n",
    "\n",
    "            if measure == 'Cosine':\n",
    "                distance = Cosine_distance(film_vector, vector)\n",
    "            elif measure == 'Chi_square':\n",
    "                distance = Chi_square_distance(film_vector, vector)\n",
    "            elif measure == 'Euclid':\n",
    "                distance = Euclid_distance(film_vector, vector)\n",
    "\n",
    "            list_distances.append(distance)\n",
    "\n",
    "        distances_vector = np.array(list_distances).reshape(-1, 1)\n",
    "        Data = np.hstack([X, distances_vector])\n",
    "        titles = Y.reshape(-1, 1)\n",
    "        Data_title = np.hstack([titles, Data])\n",
    "\n",
    "        indeksy_sortujace = np.argsort(Data_title[:, -1])\n",
    "\n",
    "        macierz_posortowana = Data_title[indeksy_sortujace]\n",
    "\n",
    "        nearest_titles = macierz_posortowana[:n, 0]\n",
    "\n",
    "        df_titles = pd.DataFrame(nearest_titles, columns=[\"Titles\"])\n",
    "        df_titles['Chosen_film'] = ''\n",
    "        df_titles.loc[0, 'Chosen_film'] = film\n",
    "\n",
    "        return df_titles"
   ]
  },
  {
   "cell_type": "code",
   "execution_count": null,
   "metadata": {},
   "outputs": [],
   "source": [
    "columns_dummy=['genre','country']\n",
    "columns_drop = ['actors','notes','description','filmtv_id']\n",
    "\n",
    "Data_frame_d_i = preprocessing(Data_frame,columns_dummy,columns_drop)\n",
    "\n",
    "Data_frame_d_i.head()"
   ]
  },
  {
   "cell_type": "markdown",
   "metadata": {},
   "source": [
    "### Wywołujemy "
   ]
  },
  {
   "cell_type": "code",
   "execution_count": null,
   "metadata": {},
   "outputs": [],
   "source": [
    "film_input = widgets.Text(\n",
    "    value='',\n",
    "    placeholder='Wprowadź tytuł filmu',\n",
    "    description='Film:',\n",
    "    disabled=False,\n",
    "    layout=widgets.Layout(width='400px', margin='10px 0px')\n",
    ")\n",
    "\n",
    "n_input = widgets.IntText(\n",
    "    value=1,\n",
    "    description='Liczba n:',\n",
    "    disabled=False,\n",
    "    layout=widgets.Layout(width='200px', margin='10px 0px')\n",
    ")\n",
    "\n",
    "measure_dropdown = widgets.Dropdown(\n",
    "    options=['Euclid', 'Cosine', 'Chi_square', 'Mixed'],\n",
    "    value='Euclid',\n",
    "    description='Miara:',\n",
    "    layout=widgets.Layout(width='300px', margin='10px 0px')\n",
    ")\n",
    "\n",
    "year_importance_dropdown = widgets.Dropdown(\n",
    "    options=['classic', 'alternative'],\n",
    "    value='classic',\n",
    "    description='Rok:',\n",
    "    layout=widgets.Layout(width='300px', margin='10px 0px')\n",
    ")\n",
    "\n",
    "duration_importance_dropdown = widgets.Dropdown(\n",
    "    options=['classic', 'alternative'],\n",
    "    value='classic',\n",
    "    description='Czas trwania:',\n",
    "    layout=widgets.Layout(width='300px', margin='10px 0px')\n",
    ")\n",
    "\n",
    "directors_importance_dropdown = widgets.Dropdown(\n",
    "    options=['classic', 'alternative'],\n",
    "    value='classic',\n",
    "    description='Reżyserzy:',\n",
    "    layout=widgets.Layout(width='300px', margin='10px 0px')\n",
    ")\n",
    "\n",
    "button = widgets.Button(\n",
    "    description='Znajdź podobne:',\n",
    "    disabled=False,\n",
    "    button_style='info',\n",
    "    tooltip='Kliknij, aby wysłać',\n",
    "    icon='search',\n",
    "    layout=widgets.Layout(width='200px', margin='20px 0px')\n",
    ")\n",
    "\n",
    "output = widgets.Output()\n",
    "\n",
    "def on_button_clicked(b):\n",
    "    with output:\n",
    "        output.clear_output()\n",
    "        film = film_input.value\n",
    "        n = n_input.value\n",
    "        measure = measure_dropdown.value\n",
    "        year_importance = year_importance_dropdown.value\n",
    "        duration_importance = duration_importance_dropdown.value\n",
    "        directors_importance = directors_importance_dropdown.value\n",
    "        \n",
    "        result = recommend_me_some_films_d_m(Data_frame_d_i, film, n, measure, year_importance, duration_importance, directors_importance)\n",
    "        display(result)\n",
    "\n",
    "button.on_click(on_button_clicked)\n",
    "\n",
    "display(HTML(\"<style>.widget-inline-hbox > * { margin: 10px; } .widget-label { min-width: 100px; }</style>\"))\n",
    "\n",
    "\n",
    "widgets.VBox([\n",
    "    widgets.HBox([film_input, n_input]),\n",
    "    widgets.HBox([measure_dropdown]),\n",
    "    widgets.HBox([year_importance_dropdown]),\n",
    "    widgets.HBox([duration_importance_dropdown]),\n",
    "    widgets.HBox([directors_importance_dropdown]),\n",
    "    button,\n",
    "    output\n",
    "])"
   ]
  }
 ],
 "metadata": {
  "kernelspec": {
   "display_name": "base",
   "language": "python",
   "name": "python3"
  },
  "language_info": {
   "codemirror_mode": {
    "name": "ipython",
    "version": 3
   },
   "file_extension": ".py",
   "mimetype": "text/x-python",
   "name": "python",
   "nbconvert_exporter": "python",
   "pygments_lexer": "ipython3",
   "version": "3.11.5"
  }
 },
 "nbformat": 4,
 "nbformat_minor": 2
}
